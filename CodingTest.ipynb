{
 "cells": [
  {
   "cell_type": "markdown",
   "id": "7a9923e5",
   "metadata": {},
   "source": [
    "### reverse a string"
   ]
  },
  {
   "cell_type": "code",
   "execution_count": 8,
   "id": "07aeceb9",
   "metadata": {},
   "outputs": [],
   "source": [
    "# reverse string using a function\n",
    "def reversed_string(sentence):\n",
    "    return sentence[::-1]"
   ]
  },
  {
   "cell_type": "code",
   "execution_count": 9,
   "id": "a351e95a",
   "metadata": {},
   "outputs": [],
   "source": [
    "# test case\n",
    "sentence = \"I love programming in Python. How about you?\""
   ]
  },
  {
   "cell_type": "code",
   "execution_count": 10,
   "id": "2a63ae36",
   "metadata": {},
   "outputs": [
    {
     "data": {
      "text/plain": [
       "'?uoy tuoba woH .nohtyP ni gnimmargorp evol I'"
      ]
     },
     "execution_count": 10,
     "metadata": {},
     "output_type": "execute_result"
    }
   ],
   "source": [
    "# reverse string using a function \n",
    "def reversed_string(sentence):\n",
    "    return sentence[::-1]\n",
    "\n",
    "reversed_string(sentence)"
   ]
  },
  {
   "cell_type": "code",
   "execution_count": 11,
   "id": "f4fb403f",
   "metadata": {},
   "outputs": [
    {
     "data": {
      "text/plain": [
       "'?uoy tuoba woH .nohtyP ni gnimmargorp evol I'"
      ]
     },
     "execution_count": 11,
     "metadata": {},
     "output_type": "execute_result"
    }
   ],
   "source": [
    "# reverse string using list comprehension\n",
    "''.join(sentence[-i] for i in range(1, len(sentence)+1))"
   ]
  },
  {
   "cell_type": "markdown",
   "id": "9b2f7c7b",
   "metadata": {},
   "source": [
    "### fibonacci number calculation"
   ]
  },
  {
   "cell_type": "code",
   "execution_count": 12,
   "id": "94d177a4",
   "metadata": {},
   "outputs": [],
   "source": [
    "# test case\n",
    "n = 5"
   ]
  },
  {
   "cell_type": "code",
   "execution_count": 13,
   "id": "2b4b3848",
   "metadata": {},
   "outputs": [
    {
     "data": {
      "text/plain": [
       "5"
      ]
     },
     "execution_count": 13,
     "metadata": {},
     "output_type": "execute_result"
    }
   ],
   "source": [
    "# brute force with function\n",
    "def fibonacci(n):\n",
    "    if n <=1:\n",
    "        return n\n",
    "    if n==2:\n",
    "        return 2\n",
    "    current = 0\n",
    "    previous1 = 1\n",
    "    previous2 = 1\n",
    "    for i in range(3, n+1):\n",
    "        current = previous1+previous2\n",
    "        previous2 = previous1\n",
    "        previous1 = current\n",
    "    return current\n",
    "\n",
    "# test case\n",
    "fibonacci(n=5)#2 "
   ]
  },
  {
   "cell_type": "code",
   "execution_count": 14,
   "id": "ed61237b",
   "metadata": {},
   "outputs": [
    {
     "data": {
      "text/plain": [
       "5"
      ]
     },
     "execution_count": 14,
     "metadata": {},
     "output_type": "execute_result"
    }
   ],
   "source": [
    "# recursion \n",
    "def fibonacci(n):\n",
    "    if n <= 1:\n",
    "        return n\n",
    "    return fibonacci(n-1)+fibonacci(n-2)\n",
    "\n",
    "# test case\n",
    "fibonacci(n=5)"
   ]
  },
  {
   "cell_type": "markdown",
   "id": "0388125d",
   "metadata": {},
   "source": [
    "### Check If Two String Arrays are Equivalent"
   ]
  },
  {
   "cell_type": "code",
   "execution_count": 22,
   "id": "93d25db5",
   "metadata": {},
   "outputs": [],
   "source": [
    "# test case \n",
    "word1 = [\"a\", \"cb\"]\n",
    "word2 = [\"ab\", \"c\"]"
   ]
  },
  {
   "cell_type": "code",
   "execution_count": 19,
   "id": "19aa4b29",
   "metadata": {},
   "outputs": [
    {
     "data": {
      "text/plain": [
       "False"
      ]
     },
     "execution_count": 19,
     "metadata": {},
     "output_type": "execute_result"
    }
   ],
   "source": [
    "#brute force with two loops (redundant)\n",
    "def two_string_equivalent(word1,word2):\n",
    "    new_1 = \"\"  # data type has to be a string\n",
    "    new_2 = \"\"\n",
    "    for i in word1:\n",
    "        new_1+=i\n",
    "    for j in word2:\n",
    "        new_2+=j\n",
    "    return new_1==new_2\n",
    "two_string_equivalent(word1,word2)"
   ]
  },
  {
   "cell_type": "code",
   "execution_count": 20,
   "id": "87947b88",
   "metadata": {},
   "outputs": [
    {
     "data": {
      "text/plain": [
       "True"
      ]
     },
     "execution_count": 20,
     "metadata": {},
     "output_type": "execute_result"
    }
   ],
   "source": [
    "# join and ==\n",
    "def two_string_equivalent(word1,word2):\n",
    "    return \"\".join(word1) == \"\".join(word2)\n",
    "\n",
    "# test case\n",
    "word1 = [\"ab\", \"c\"]\n",
    "word2 = [\"a\", \"bc\"]\n",
    "two_string_equivalent(word1,word2)"
   ]
  },
  {
   "cell_type": "markdown",
   "id": "2e58063a",
   "metadata": {},
   "source": [
    "### matrix diagonal sum\n",
    "- Given a square matrix mat, return the sum of the matrix diagonals.\n",
    "- Only include the sum of all the elements on the primary diagonal and all the elements on the secondary diagonal that are not part of the primary diagonal."
   ]
  },
  {
   "cell_type": "code",
   "execution_count": 23,
   "id": "d4911e88",
   "metadata": {},
   "outputs": [],
   "source": [
    "# test case\n",
    "mat = [[1,1,1,1],\n",
    "       [1,1,1,1],\n",
    "       [1,1,1,1],\n",
    "       [1,1,1,1]]"
   ]
  },
  {
   "cell_type": "code",
   "execution_count": 26,
   "id": "afb552c4",
   "metadata": {},
   "outputs": [
    {
     "data": {
      "text/plain": [
       "8"
      ]
     },
     "execution_count": 26,
     "metadata": {},
     "output_type": "execute_result"
    }
   ],
   "source": [
    "def diagonal_sum(mat):\n",
    "    n = len(mat)\n",
    "    output = 0\n",
    "    for i in range(n):\n",
    "        output = output+mat[i][i]\n",
    "        if i!=n-i-1:\n",
    "            output = output+mat[i][n-i-1]\n",
    "    return output\n",
    "\n",
    "diagonal_sum(mat)"
   ]
  },
  {
   "cell_type": "markdown",
   "id": "230dca98",
   "metadata": {},
   "source": [
    "### Final Prices With a Special Discount in a Shop\n",
    "[Question source](https://leetcode.com/problems/final-prices-with-a-special-discount-in-a-shop/)\n",
    "\n",
    "[logic source](https://towardsdatascience.com/essential-python-coding-questions-for-data-science-interviews-4d33d15008e6)\n",
    "- Given the array prices where prices[i] is the price of the ith item in a shop.\n",
    "- There is a special discount for items in the shop, if you buy the ith item, then you will receive a discount equivalent to prices[j] where j is the minimum index such that j > i and prices[j] <= prices[i], otherwise, you will not receive any discount at all.\n",
    "- Return an array where the ith element is the final price you will pay for the ith item of the shop considering the special discount."
   ]
  },
  {
   "cell_type": "code",
   "execution_count": null,
   "id": "71811ab5",
   "metadata": {},
   "outputs": [],
   "source": [
    "# test case"
   ]
  },
  {
   "cell_type": "code",
   "execution_count": 27,
   "id": "0e2da66f",
   "metadata": {},
   "outputs": [],
   "source": [
    "def finalPrices(self, A):\n",
    "    stack = []\n",
    "    for i, a in enumerate(A):\n",
    "        while stack and A[stack[-1]] >= a:\n",
    "            A[stack.pop()] -= a\n",
    "        stack.append(i)\n",
    "    return A\n",
    "\n",
    "# Time O(N) Space O(N)"
   ]
  },
  {
   "cell_type": "code",
   "execution_count": 28,
   "id": "c81a7886",
   "metadata": {},
   "outputs": [],
   "source": [
    "# "
   ]
  },
  {
   "cell_type": "markdown",
   "id": "5e3bc146",
   "metadata": {},
   "source": [
    "### Reverse Words in a String III, by Amazon\n",
    "- Given a string, you need to reverse the order of characters in each word within a sentence while still preserving whitespace and initial word order.\n",
    "- https://leetcode.com/problems/reverse-words-in-a-string-iii/"
   ]
  },
  {
   "cell_type": "code",
   "execution_count": 31,
   "id": "fab389df",
   "metadata": {},
   "outputs": [
    {
     "data": {
      "text/plain": [
       "\"s'teL ekat edoCteeL tsetnoc\""
      ]
     },
     "execution_count": 31,
     "metadata": {},
     "output_type": "execute_result"
    }
   ],
   "source": [
    "def reverse_words(s):\n",
    "    result = \"\" \n",
    "    new = s.split(\" \")\n",
    "    for word in new: \n",
    "        word = word[::-1]+\" \"\n",
    "        result += word\n",
    "        \n",
    "    return result.rstrip() #rstrip does not work everywhere; it only works at the beginning or end of a function!!!!!!!!!!\n",
    "\n",
    "# test case\n",
    "reverse_words(s =\"Let's take LeetCode contest\")"
   ]
  },
  {
   "cell_type": "markdown",
   "id": "32397afd",
   "metadata": {},
   "source": [
    "###"
   ]
  },
  {
   "cell_type": "code",
   "execution_count": null,
   "id": "baf31daa",
   "metadata": {},
   "outputs": [],
   "source": [
    "# test case"
   ]
  },
  {
   "cell_type": "code",
   "execution_count": null,
   "id": "4add2d84",
   "metadata": {},
   "outputs": [],
   "source": [
    "# "
   ]
  },
  {
   "cell_type": "code",
   "execution_count": null,
   "id": "57a7823e",
   "metadata": {},
   "outputs": [],
   "source": [
    "#"
   ]
  },
  {
   "cell_type": "markdown",
   "id": "cb0246ab",
   "metadata": {},
   "source": [
    "###"
   ]
  },
  {
   "cell_type": "code",
   "execution_count": null,
   "id": "bb286c46",
   "metadata": {},
   "outputs": [],
   "source": [
    "# test case"
   ]
  },
  {
   "cell_type": "code",
   "execution_count": null,
   "id": "7a97d4c0",
   "metadata": {},
   "outputs": [],
   "source": [
    "# "
   ]
  },
  {
   "cell_type": "code",
   "execution_count": null,
   "id": "9b21c826",
   "metadata": {},
   "outputs": [],
   "source": [
    "#"
   ]
  },
  {
   "cell_type": "markdown",
   "id": "9fe77a58",
   "metadata": {},
   "source": [
    "###"
   ]
  },
  {
   "cell_type": "code",
   "execution_count": null,
   "id": "57641a0e",
   "metadata": {},
   "outputs": [],
   "source": [
    "# test case"
   ]
  },
  {
   "cell_type": "code",
   "execution_count": null,
   "id": "8192b02d",
   "metadata": {},
   "outputs": [],
   "source": [
    "# "
   ]
  },
  {
   "cell_type": "code",
   "execution_count": null,
   "id": "00e79bfc",
   "metadata": {},
   "outputs": [],
   "source": [
    "#"
   ]
  },
  {
   "cell_type": "markdown",
   "id": "1655e507",
   "metadata": {},
   "source": [
    "###"
   ]
  },
  {
   "cell_type": "code",
   "execution_count": null,
   "id": "3bbac8f0",
   "metadata": {},
   "outputs": [],
   "source": [
    "# test case"
   ]
  },
  {
   "cell_type": "code",
   "execution_count": null,
   "id": "11a90bd5",
   "metadata": {},
   "outputs": [],
   "source": [
    "# "
   ]
  },
  {
   "cell_type": "code",
   "execution_count": null,
   "id": "98fb0b74",
   "metadata": {},
   "outputs": [],
   "source": [
    "#"
   ]
  },
  {
   "cell_type": "markdown",
   "id": "cf5ee2c8",
   "metadata": {},
   "source": [
    "###"
   ]
  },
  {
   "cell_type": "code",
   "execution_count": null,
   "id": "1d3b1cdf",
   "metadata": {},
   "outputs": [],
   "source": [
    "# test case"
   ]
  },
  {
   "cell_type": "code",
   "execution_count": null,
   "id": "cf9d3e60",
   "metadata": {},
   "outputs": [],
   "source": [
    "# "
   ]
  },
  {
   "cell_type": "code",
   "execution_count": null,
   "id": "0786ea64",
   "metadata": {},
   "outputs": [],
   "source": [
    "#"
   ]
  },
  {
   "cell_type": "markdown",
   "id": "cbdb5ce5",
   "metadata": {},
   "source": [
    "###"
   ]
  },
  {
   "cell_type": "code",
   "execution_count": null,
   "id": "8da2cf0d",
   "metadata": {},
   "outputs": [],
   "source": [
    "# test case"
   ]
  },
  {
   "cell_type": "code",
   "execution_count": null,
   "id": "a98c6532",
   "metadata": {},
   "outputs": [],
   "source": [
    "# "
   ]
  },
  {
   "cell_type": "code",
   "execution_count": null,
   "id": "7206abcc",
   "metadata": {},
   "outputs": [],
   "source": [
    "#"
   ]
  },
  {
   "cell_type": "markdown",
   "id": "258efdd7",
   "metadata": {},
   "source": [
    "###"
   ]
  },
  {
   "cell_type": "code",
   "execution_count": null,
   "id": "7fdfef39",
   "metadata": {},
   "outputs": [],
   "source": [
    "# test case"
   ]
  },
  {
   "cell_type": "code",
   "execution_count": null,
   "id": "42d4fd84",
   "metadata": {},
   "outputs": [],
   "source": [
    "# "
   ]
  },
  {
   "cell_type": "code",
   "execution_count": null,
   "id": "283dfc1e",
   "metadata": {},
   "outputs": [],
   "source": [
    "#"
   ]
  }
 ],
 "metadata": {
  "kernelspec": {
   "display_name": "Python 3",
   "language": "python",
   "name": "python3"
  },
  "language_info": {
   "codemirror_mode": {
    "name": "ipython",
    "version": 3
   },
   "file_extension": ".py",
   "mimetype": "text/x-python",
   "name": "python",
   "nbconvert_exporter": "python",
   "pygments_lexer": "ipython3",
   "version": "3.7.9"
  }
 },
 "nbformat": 4,
 "nbformat_minor": 5
}
