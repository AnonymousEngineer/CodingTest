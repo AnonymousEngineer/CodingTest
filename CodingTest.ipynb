{
 "cells": [
  {
   "cell_type": "markdown",
   "id": "4473fc3f",
   "metadata": {},
   "source": [
    "### reverse a string"
   ]
  },
  {
   "cell_type": "code",
   "execution_count": 8,
   "id": "c46d9d2a",
   "metadata": {},
   "outputs": [],
   "source": [
    "# reverse string using a function\n",
    "def reversed_string(sentence):\n",
    "    return sentence[::-1]"
   ]
  },
  {
   "cell_type": "code",
   "execution_count": 9,
   "id": "204f3848",
   "metadata": {},
   "outputs": [],
   "source": [
    "# test case\n",
    "sentence = \"I love programming in Python. How about you?\""
   ]
  },
  {
   "cell_type": "code",
   "execution_count": 10,
   "id": "f232f041",
   "metadata": {},
   "outputs": [
    {
     "data": {
      "text/plain": [
       "'?uoy tuoba woH .nohtyP ni gnimmargorp evol I'"
      ]
     },
     "execution_count": 10,
     "metadata": {},
     "output_type": "execute_result"
    }
   ],
   "source": [
    "# reverse string using a function \n",
    "def reversed_string(sentence):\n",
    "    return sentence[::-1]\n",
    "\n",
    "reversed_string(sentence)"
   ]
  },
  {
   "cell_type": "code",
   "execution_count": 11,
   "id": "1fa4cee2",
   "metadata": {},
   "outputs": [
    {
     "data": {
      "text/plain": [
       "'?uoy tuoba woH .nohtyP ni gnimmargorp evol I'"
      ]
     },
     "execution_count": 11,
     "metadata": {},
     "output_type": "execute_result"
    }
   ],
   "source": [
    "# reverse string using list comprehension\n",
    "''.join(sentence[-i] for i in range(1, len(sentence)+1))"
   ]
  },
  {
   "cell_type": "code",
   "execution_count": null,
   "id": "26faee4f",
   "metadata": {},
   "outputs": [],
   "source": []
  },
  {
   "cell_type": "code",
   "execution_count": null,
   "id": "eb446954",
   "metadata": {},
   "outputs": [],
   "source": []
  },
  {
   "cell_type": "code",
   "execution_count": null,
   "id": "b292483c",
   "metadata": {},
   "outputs": [],
   "source": []
  },
  {
   "cell_type": "code",
   "execution_count": null,
   "id": "5bf9e0e5",
   "metadata": {},
   "outputs": [],
   "source": []
  }
 ],
 "metadata": {
  "kernelspec": {
   "display_name": "Python 3",
   "language": "python",
   "name": "python3"
  },
  "language_info": {
   "codemirror_mode": {
    "name": "ipython",
    "version": 3
   },
   "file_extension": ".py",
   "mimetype": "text/x-python",
   "name": "python",
   "nbconvert_exporter": "python",
   "pygments_lexer": "ipython3",
   "version": "3.7.9"
  }
 },
 "nbformat": 4,
 "nbformat_minor": 5
}
