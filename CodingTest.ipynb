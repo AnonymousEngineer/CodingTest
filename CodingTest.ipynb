{
 "cells": [
  {
   "cell_type": "markdown",
   "id": "88c29d0b",
   "metadata": {},
   "source": [
    "[random](https://docs.python.org/3/library/random.html)"
   ]
  },
  {
   "cell_type": "markdown",
   "id": "840a25a1",
   "metadata": {},
   "source": [
    "### reverse a string"
   ]
  },
  {
   "cell_type": "code",
   "execution_count": 8,
   "id": "14025138",
   "metadata": {},
   "outputs": [],
   "source": [
    "# reverse string using a function\n",
    "def reversed_string(sentence):\n",
    "    return sentence[::-1]"
   ]
  },
  {
   "cell_type": "code",
   "execution_count": 9,
   "id": "89e57ca4",
   "metadata": {},
   "outputs": [],
   "source": [
    "# test case\n",
    "sentence = \"I love programming in Python. How about you?\""
   ]
  },
  {
   "cell_type": "code",
   "execution_count": 10,
   "id": "fa5d3e4d",
   "metadata": {},
   "outputs": [
    {
     "data": {
      "text/plain": [
       "'?uoy tuoba woH .nohtyP ni gnimmargorp evol I'"
      ]
     },
     "execution_count": 10,
     "metadata": {},
     "output_type": "execute_result"
    }
   ],
   "source": [
    "# reverse string using a function \n",
    "def reversed_string(sentence):\n",
    "    return sentence[::-1]\n",
    "\n",
    "reversed_string(sentence)"
   ]
  },
  {
   "cell_type": "code",
   "execution_count": 11,
   "id": "91770dae",
   "metadata": {},
   "outputs": [
    {
     "data": {
      "text/plain": [
       "'?uoy tuoba woH .nohtyP ni gnimmargorp evol I'"
      ]
     },
     "execution_count": 11,
     "metadata": {},
     "output_type": "execute_result"
    }
   ],
   "source": [
    "# reverse string using list comprehension\n",
    "''.join(sentence[-i] for i in range(1, len(sentence)+1))"
   ]
  },
  {
   "cell_type": "markdown",
   "id": "f8eed3cc",
   "metadata": {},
   "source": [
    "### fibonacci number calculation"
   ]
  },
  {
   "cell_type": "code",
   "execution_count": 12,
   "id": "1930a8bf",
   "metadata": {},
   "outputs": [],
   "source": [
    "# test case\n",
    "n = 5"
   ]
  },
  {
   "cell_type": "code",
   "execution_count": 13,
   "id": "97d2a907",
   "metadata": {},
   "outputs": [
    {
     "data": {
      "text/plain": [
       "5"
      ]
     },
     "execution_count": 13,
     "metadata": {},
     "output_type": "execute_result"
    }
   ],
   "source": [
    "# brute force with function\n",
    "def fibonacci(n):\n",
    "    if n <=1:\n",
    "        return n\n",
    "    if n==2:\n",
    "        return 2\n",
    "    current = 0\n",
    "    previous1 = 1\n",
    "    previous2 = 1\n",
    "    for i in range(3, n+1):\n",
    "        current = previous1+previous2\n",
    "        previous2 = previous1\n",
    "        previous1 = current\n",
    "    return current\n",
    "\n",
    "# test case\n",
    "fibonacci(n=5)#2 "
   ]
  },
  {
   "cell_type": "code",
   "execution_count": 14,
   "id": "6128442f",
   "metadata": {},
   "outputs": [
    {
     "data": {
      "text/plain": [
       "5"
      ]
     },
     "execution_count": 14,
     "metadata": {},
     "output_type": "execute_result"
    }
   ],
   "source": [
    "# recursion \n",
    "def fibonacci(n):\n",
    "    if n <= 1:\n",
    "        return n\n",
    "    return fibonacci(n-1)+fibonacci(n-2)\n",
    "\n",
    "# test case\n",
    "fibonacci(n=5)"
   ]
  },
  {
   "cell_type": "markdown",
   "id": "79067fbc",
   "metadata": {},
   "source": [
    "### Check If Two String Arrays are Equivalent"
   ]
  },
  {
   "cell_type": "code",
   "execution_count": 22,
   "id": "e3605822",
   "metadata": {},
   "outputs": [],
   "source": [
    "# test case \n",
    "word1 = [\"a\", \"cb\"]\n",
    "word2 = [\"ab\", \"c\"]"
   ]
  },
  {
   "cell_type": "code",
   "execution_count": 19,
   "id": "5e463754",
   "metadata": {},
   "outputs": [
    {
     "data": {
      "text/plain": [
       "False"
      ]
     },
     "execution_count": 19,
     "metadata": {},
     "output_type": "execute_result"
    }
   ],
   "source": [
    "#brute force with two loops (redundant)\n",
    "def two_string_equivalent(word1,word2):\n",
    "    new_1 = \"\"  # data type has to be a string\n",
    "    new_2 = \"\"\n",
    "    for i in word1:\n",
    "        new_1+=i\n",
    "    for j in word2:\n",
    "        new_2+=j\n",
    "    return new_1==new_2\n",
    "two_string_equivalent(word1,word2)"
   ]
  },
  {
   "cell_type": "code",
   "execution_count": 20,
   "id": "bff1e0da",
   "metadata": {},
   "outputs": [
    {
     "data": {
      "text/plain": [
       "True"
      ]
     },
     "execution_count": 20,
     "metadata": {},
     "output_type": "execute_result"
    }
   ],
   "source": [
    "# join and ==\n",
    "def two_string_equivalent(word1,word2):\n",
    "    return \"\".join(word1) == \"\".join(word2)\n",
    "\n",
    "# test case\n",
    "word1 = [\"ab\", \"c\"]\n",
    "word2 = [\"a\", \"bc\"]\n",
    "two_string_equivalent(word1,word2)"
   ]
  },
  {
   "cell_type": "markdown",
   "id": "947ea6c2",
   "metadata": {},
   "source": [
    "### matrix diagonal sum\n",
    "- Given a square matrix mat, return the sum of the matrix diagonals.\n",
    "- Only include the sum of all the elements on the primary diagonal and all the elements on the secondary diagonal that are not part of the primary diagonal."
   ]
  },
  {
   "cell_type": "code",
   "execution_count": 23,
   "id": "50f15488",
   "metadata": {},
   "outputs": [],
   "source": [
    "# test case\n",
    "mat = [[1,1,1,1],\n",
    "       [1,1,1,1],\n",
    "       [1,1,1,1],\n",
    "       [1,1,1,1]]"
   ]
  },
  {
   "cell_type": "code",
   "execution_count": 26,
   "id": "ce4d8f43",
   "metadata": {},
   "outputs": [
    {
     "data": {
      "text/plain": [
       "8"
      ]
     },
     "execution_count": 26,
     "metadata": {},
     "output_type": "execute_result"
    }
   ],
   "source": [
    "def diagonal_sum(mat):\n",
    "    n = len(mat)\n",
    "    output = 0\n",
    "    for i in range(n):\n",
    "        output = output+mat[i][i]\n",
    "        if i!=n-i-1:\n",
    "            output = output+mat[i][n-i-1]\n",
    "    return output\n",
    "\n",
    "diagonal_sum(mat)"
   ]
  },
  {
   "cell_type": "markdown",
   "id": "dffa5447",
   "metadata": {},
   "source": [
    "### Final Prices With a Special Discount in a Shop\n",
    "[Question source](https://leetcode.com/problems/final-prices-with-a-special-discount-in-a-shop/)\n",
    "\n",
    "[logic source](https://towardsdatascience.com/essential-python-coding-questions-for-data-science-interviews-4d33d15008e6)\n",
    "- Given the array prices where prices[i] is the price of the ith item in a shop.\n",
    "- There is a special discount for items in the shop, if you buy the ith item, then you will receive a discount equivalent to prices[j] where j is the minimum index such that j > i and prices[j] <= prices[i], otherwise, you will not receive any discount at all.\n",
    "- Return an array where the ith element is the final price you will pay for the ith item of the shop considering the special discount."
   ]
  },
  {
   "cell_type": "code",
   "execution_count": null,
   "id": "15e741c9",
   "metadata": {},
   "outputs": [],
   "source": [
    "# test case"
   ]
  },
  {
   "cell_type": "code",
   "execution_count": 27,
   "id": "8ed5683f",
   "metadata": {},
   "outputs": [],
   "source": [
    "def finalPrices(self, A):\n",
    "    stack = []\n",
    "    for i, a in enumerate(A):\n",
    "        while stack and A[stack[-1]] >= a:\n",
    "            A[stack.pop()] -= a\n",
    "        stack.append(i)\n",
    "    return A\n",
    "\n",
    "# Time O(N) Space O(N)"
   ]
  },
  {
   "cell_type": "code",
   "execution_count": 28,
   "id": "aa339cae",
   "metadata": {},
   "outputs": [],
   "source": [
    "# "
   ]
  },
  {
   "cell_type": "markdown",
   "id": "d49f4183",
   "metadata": {},
   "source": [
    "### Reverse Words in a String III, by Amazon\n",
    "- Given a string, you need to reverse the order of characters in each word within a sentence while still preserving whitespace and initial word order.\n",
    "- https://leetcode.com/problems/reverse-words-in-a-string-iii/"
   ]
  },
  {
   "cell_type": "code",
   "execution_count": 31,
   "id": "6c781cb9",
   "metadata": {},
   "outputs": [
    {
     "data": {
      "text/plain": [
       "\"s'teL ekat edoCteeL tsetnoc\""
      ]
     },
     "execution_count": 31,
     "metadata": {},
     "output_type": "execute_result"
    }
   ],
   "source": [
    "def reverse_words(s):\n",
    "    result = \"\" \n",
    "    new = s.split(\" \")\n",
    "    for word in new: \n",
    "        word = word[::-1]+\" \"\n",
    "        result += word\n",
    "        \n",
    "    return result.rstrip() #rstrip does not work everywhere; it only works at the beginning or end of a function!!!!!!!!!!\n",
    "\n",
    "# test case\n",
    "reverse_words(s =\"Let's take LeetCode contest\")"
   ]
  },
  {
   "cell_type": "markdown",
   "id": "3c69bc12",
   "metadata": {},
   "source": [
    "###"
   ]
  },
  {
   "cell_type": "code",
   "execution_count": null,
   "id": "4d895c9c",
   "metadata": {},
   "outputs": [],
   "source": [
    "# test case"
   ]
  },
  {
   "cell_type": "code",
   "execution_count": null,
   "id": "66422ab2",
   "metadata": {},
   "outputs": [],
   "source": [
    "# "
   ]
  },
  {
   "cell_type": "code",
   "execution_count": null,
   "id": "e2fda412",
   "metadata": {},
   "outputs": [],
   "source": [
    "#"
   ]
  },
  {
   "cell_type": "markdown",
   "id": "8534bab6",
   "metadata": {},
   "source": [
    "###"
   ]
  },
  {
   "cell_type": "code",
   "execution_count": null,
   "id": "320e538f",
   "metadata": {},
   "outputs": [],
   "source": [
    "# test case"
   ]
  },
  {
   "cell_type": "code",
   "execution_count": null,
   "id": "a3052f57",
   "metadata": {},
   "outputs": [],
   "source": [
    "# "
   ]
  },
  {
   "cell_type": "code",
   "execution_count": null,
   "id": "82e56afd",
   "metadata": {},
   "outputs": [],
   "source": [
    "#"
   ]
  },
  {
   "cell_type": "markdown",
   "id": "95b1c31c",
   "metadata": {},
   "source": [
    "###"
   ]
  },
  {
   "cell_type": "code",
   "execution_count": null,
   "id": "dc01e683",
   "metadata": {},
   "outputs": [],
   "source": [
    "# test case"
   ]
  },
  {
   "cell_type": "code",
   "execution_count": null,
   "id": "01a4f8e0",
   "metadata": {},
   "outputs": [],
   "source": [
    "# "
   ]
  },
  {
   "cell_type": "code",
   "execution_count": null,
   "id": "14666128",
   "metadata": {},
   "outputs": [],
   "source": [
    "#"
   ]
  },
  {
   "cell_type": "markdown",
   "id": "6627393f",
   "metadata": {},
   "source": [
    "###"
   ]
  },
  {
   "cell_type": "code",
   "execution_count": null,
   "id": "5c7c8192",
   "metadata": {},
   "outputs": [],
   "source": [
    "# test case"
   ]
  },
  {
   "cell_type": "code",
   "execution_count": null,
   "id": "d52671e2",
   "metadata": {},
   "outputs": [],
   "source": [
    "# "
   ]
  },
  {
   "cell_type": "code",
   "execution_count": null,
   "id": "ff09e409",
   "metadata": {},
   "outputs": [],
   "source": [
    "#"
   ]
  },
  {
   "cell_type": "markdown",
   "id": "1c9a13e3",
   "metadata": {},
   "source": [
    "###"
   ]
  },
  {
   "cell_type": "code",
   "execution_count": null,
   "id": "181f8d5d",
   "metadata": {},
   "outputs": [],
   "source": [
    "# test case"
   ]
  },
  {
   "cell_type": "code",
   "execution_count": null,
   "id": "298c66d1",
   "metadata": {},
   "outputs": [],
   "source": [
    "# "
   ]
  },
  {
   "cell_type": "code",
   "execution_count": null,
   "id": "4db65d67",
   "metadata": {},
   "outputs": [],
   "source": [
    "#"
   ]
  },
  {
   "cell_type": "markdown",
   "id": "3170317d",
   "metadata": {},
   "source": [
    "###"
   ]
  },
  {
   "cell_type": "code",
   "execution_count": null,
   "id": "6e012145",
   "metadata": {},
   "outputs": [],
   "source": [
    "# test case"
   ]
  },
  {
   "cell_type": "code",
   "execution_count": null,
   "id": "1bfafeac",
   "metadata": {},
   "outputs": [],
   "source": [
    "# "
   ]
  },
  {
   "cell_type": "code",
   "execution_count": null,
   "id": "f8608d25",
   "metadata": {},
   "outputs": [],
   "source": [
    "#"
   ]
  },
  {
   "cell_type": "markdown",
   "id": "845bddd8",
   "metadata": {},
   "source": [
    "##### [data mining vs data analysis](https://www.analytixlabs.co.in/blog/data-analyst-interview-questions/#sub1.1)"
   ]
  },
  {
   "cell_type": "markdown",
   "id": "e3494352",
   "metadata": {},
   "source": [
    "#### [data profiling vs data mining](https://www.analytixlabs.co.in/blog/data-analyst-interview-questions/#sub1.2)"
   ]
  },
  {
   "cell_type": "markdown",
   "id": "df622846",
   "metadata": {},
   "source": [
    "#### [proces of data analysis](https://www.analytixlabs.co.in/blog/data-analyst-interview-questions/#sub1.3)"
   ]
  },
  {
   "cell_type": "markdown",
   "id": "3b91250f",
   "metadata": {},
   "source": [
    "#### [data wrangling or data cleansing](https://www.analytixlabs.co.in/blog/data-analyst-interview-questions/#sub1.4)"
   ]
  },
  {
   "cell_type": "markdown",
   "id": "a1919a33",
   "metadata": {},
   "source": [
    "#### [clannges of data analysis](https://www.analytixlabs.co.in/blog/data-analyst-interview-questions/#sub1.5)"
   ]
  },
  {
   "cell_type": "markdown",
   "id": "3b99bead",
   "metadata": {},
   "source": [
    "#### [Difference Between Uni-variate, Bi-variate, and Multivariate Analysis](https://www.analytixlabs.co.in/blog/data-analyst-interview-questions/#sub1.13)"
   ]
  },
  {
   "cell_type": "markdown",
   "id": "72054ed9",
   "metadata": {},
   "source": [
    "#### [100 python interview questions](https://www.edureka.co/blog/interview-questions/python-interview-questions/)\n",
    "\\__init__ example,  lambda function, self, range vs xrange, "
   ]
  },
  {
   "cell_type": "code",
   "execution_count": 40,
   "id": "aa9a8d5f",
   "metadata": {},
   "outputs": [
    {
     "name": "stdout",
     "output_type": "stream",
     "text": [
      "XYZ\n",
      "23\n",
      "20000\n"
     ]
    }
   ],
   "source": [
    "#### __init__ example\n",
    "class Employee:\n",
    "    def __init__(self, name, age,salary):\n",
    "        self.name = name\n",
    "        self.age = age\n",
    "        self.salary = 20000\n",
    "        \n",
    "E1 = Employee(\"XYZ\", 23, 20000)\n",
    "# E1 is the instance of class Employee.\n",
    "#__init__ allocates memory for E1. \n",
    "print(E1.name)\n",
    "print(E1.age)\n",
    "print(E1.salary)"
   ]
  },
  {
   "cell_type": "markdown",
   "id": "40762cc8",
   "metadata": {},
   "source": [
    "####  lambda function\n",
    "a = lambda x,y : x+y\n",
    "print(a(5, 6))"
   ]
  },
  {
   "cell_type": "markdown",
   "id": "7ad198f4",
   "metadata": {},
   "source": [
    "#### []()"
   ]
  },
  {
   "cell_type": "markdown",
   "id": "bc54a4d3",
   "metadata": {},
   "source": [
    "#### []()"
   ]
  },
  {
   "cell_type": "markdown",
   "id": "783f58db",
   "metadata": {},
   "source": [
    "#### []()"
   ]
  },
  {
   "cell_type": "markdown",
   "id": "df0e81aa",
   "metadata": {},
   "source": [
    "#### []()"
   ]
  }
 ],
 "metadata": {
  "kernelspec": {
   "display_name": "Python 3",
   "language": "python",
   "name": "python3"
  },
  "language_info": {
   "codemirror_mode": {
    "name": "ipython",
    "version": 3
   },
   "file_extension": ".py",
   "mimetype": "text/x-python",
   "name": "python",
   "nbconvert_exporter": "python",
   "pygments_lexer": "ipython3",
   "version": "3.7.9"
  }
 },
 "nbformat": 4,
 "nbformat_minor": 5
}
