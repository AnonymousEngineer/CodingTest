{
 "cells": [
  {
   "cell_type": "markdown",
   "id": "d4307310",
   "metadata": {},
   "source": [
    "### reverse a string"
   ]
  },
  {
   "cell_type": "code",
   "execution_count": 8,
   "id": "eaac5400",
   "metadata": {},
   "outputs": [],
   "source": [
    "# reverse string using a function\n",
    "def reversed_string(sentence):\n",
    "    return sentence[::-1]"
   ]
  },
  {
   "cell_type": "code",
   "execution_count": 9,
   "id": "c50ea55f",
   "metadata": {},
   "outputs": [],
   "source": [
    "# test case\n",
    "sentence = \"I love programming in Python. How about you?\""
   ]
  },
  {
   "cell_type": "code",
   "execution_count": 10,
   "id": "8715332a",
   "metadata": {},
   "outputs": [
    {
     "data": {
      "text/plain": [
       "'?uoy tuoba woH .nohtyP ni gnimmargorp evol I'"
      ]
     },
     "execution_count": 10,
     "metadata": {},
     "output_type": "execute_result"
    }
   ],
   "source": [
    "# reverse string using a function \n",
    "def reversed_string(sentence):\n",
    "    return sentence[::-1]\n",
    "\n",
    "reversed_string(sentence)"
   ]
  },
  {
   "cell_type": "code",
   "execution_count": 11,
   "id": "275c36e2",
   "metadata": {},
   "outputs": [
    {
     "data": {
      "text/plain": [
       "'?uoy tuoba woH .nohtyP ni gnimmargorp evol I'"
      ]
     },
     "execution_count": 11,
     "metadata": {},
     "output_type": "execute_result"
    }
   ],
   "source": [
    "# reverse string using list comprehension\n",
    "''.join(sentence[-i] for i in range(1, len(sentence)+1))"
   ]
  },
  {
   "cell_type": "markdown",
   "id": "185ea725",
   "metadata": {},
   "source": [
    "### fibonacci number calculation"
   ]
  },
  {
   "cell_type": "code",
   "execution_count": 12,
   "id": "39f3e60f",
   "metadata": {},
   "outputs": [],
   "source": [
    "# test case\n",
    "n = 5"
   ]
  },
  {
   "cell_type": "code",
   "execution_count": 13,
   "id": "4307af3b",
   "metadata": {},
   "outputs": [
    {
     "data": {
      "text/plain": [
       "5"
      ]
     },
     "execution_count": 13,
     "metadata": {},
     "output_type": "execute_result"
    }
   ],
   "source": [
    "# brute force with function\n",
    "def fibonacci(n):\n",
    "    if n <=1:\n",
    "        return n\n",
    "    if n==2:\n",
    "        return 2\n",
    "    current = 0\n",
    "    previous1 = 1\n",
    "    previous2 = 1\n",
    "    for i in range(3, n+1):\n",
    "        current = previous1+previous2\n",
    "        previous2 = previous1\n",
    "        previous1 = current\n",
    "    return current\n",
    "\n",
    "# test case\n",
    "fibonacci(n=5)#2 "
   ]
  },
  {
   "cell_type": "code",
   "execution_count": 14,
   "id": "14223920",
   "metadata": {},
   "outputs": [
    {
     "data": {
      "text/plain": [
       "5"
      ]
     },
     "execution_count": 14,
     "metadata": {},
     "output_type": "execute_result"
    }
   ],
   "source": [
    "# recursion \n",
    "def fibonacci(n):\n",
    "    if n <= 1:\n",
    "        return n\n",
    "    return fibonacci(n-1)+fibonacci(n-2)\n",
    "\n",
    "# test case\n",
    "fibonacci(n=5)"
   ]
  },
  {
   "cell_type": "code",
   "execution_count": null,
   "id": "d427382f",
   "metadata": {},
   "outputs": [],
   "source": [
    "### Check If Two String Arrays are Equivalent"
   ]
  },
  {
   "cell_type": "code",
   "execution_count": null,
   "id": "abd0a0be",
   "metadata": {},
   "outputs": [],
   "source": []
  }
 ],
 "metadata": {
  "kernelspec": {
   "display_name": "Python 3",
   "language": "python",
   "name": "python3"
  },
  "language_info": {
   "codemirror_mode": {
    "name": "ipython",
    "version": 3
   },
   "file_extension": ".py",
   "mimetype": "text/x-python",
   "name": "python",
   "nbconvert_exporter": "python",
   "pygments_lexer": "ipython3",
   "version": "3.7.9"
  }
 },
 "nbformat": 4,
 "nbformat_minor": 5
}
